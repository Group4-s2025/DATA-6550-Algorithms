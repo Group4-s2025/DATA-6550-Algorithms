{
  "nbformat": 4,
  "nbformat_minor": 0,
  "metadata": {
    "colab": {
      "provenance": [],
      "authorship_tag": "ABX9TyPEaRoURA4i67ygIaTrRDNm",
      "include_colab_link": true
    },
    "kernelspec": {
      "name": "python3",
      "display_name": "Python 3"
    },
    "language_info": {
      "name": "python"
    }
  },
  "cells": [
    {
      "cell_type": "markdown",
      "metadata": {
        "id": "view-in-github",
        "colab_type": "text"
      },
      "source": [
        "<a href=\"https://colab.research.google.com/github/Group4-s2025/DATA-6550-Algorithms/blob/main/Module_4_Project_Group_4.ipynb\" target=\"_parent\"><img src=\"https://colab.research.google.com/assets/colab-badge.svg\" alt=\"Open In Colab\"/></a>"
      ]
    },
    {
      "cell_type": "markdown",
      "source": [
        "# Housing Discrimination and Algorithmic Bias\n",
        "## Module 4: Algorithmic Bias\n",
        "### By: Savi Alwis, Moses Kipkemboi, Muqtasid Qureshi, Pallavi Suram"
      ],
      "metadata": {
        "id": "MSI2LDXW2WO0"
      }
    },
    {
      "cell_type": "code",
      "source": [
        "# Load libraries\n",
        "import pandas as pd\n",
        "import matplotlib.pyplot as plt\n",
        "import seaborn as sns"
      ],
      "metadata": {
        "id": "RMrSl6KH2Zx9"
      },
      "execution_count": null,
      "outputs": []
    },
    {
      "cell_type": "code",
      "source": [
        "# Load dataset\n",
        "url = \"https://raw.githubusercontent.com/savi3alwis/DATA-6550-Algorithms/refs/heads/main/Data/mortgage_covenant_data.csv\"\n",
        "df = pd.read_csv(url)"
      ],
      "metadata": {
        "id": "WkexAPQl2bWZ"
      },
      "execution_count": 6,
      "outputs": []
    },
    {
      "cell_type": "code",
      "source": [
        "df.info()"
      ],
      "metadata": {
        "colab": {
          "base_uri": "https://localhost:8080/"
        },
        "id": "LfPwbLoT4qId",
        "outputId": "a665c8e6-372e-4bf9-f4e3-69040fdd4941"
      },
      "execution_count": 7,
      "outputs": [
        {
          "output_type": "stream",
          "name": "stdout",
          "text": [
            "<class 'pandas.core.frame.DataFrame'>\n",
            "RangeIndex: 100931 entries, 0 to 100930\n",
            "Data columns (total 14 columns):\n",
            " #   Column                             Non-Null Count   Dtype  \n",
            "---  ------                             --------------   -----  \n",
            " 0   activity_year                      100931 non-null  int64  \n",
            " 1   census_tract                       99915 non-null   float64\n",
            " 2   derived_race                       100931 non-null  object \n",
            " 3   action_taken                       100931 non-null  int64  \n",
            " 4   loan_amount                        100931 non-null  float64\n",
            " 5   property_value                     83491 non-null   float64\n",
            " 6   income                             88200 non-null   float64\n",
            " 7   interest_rate                      78125 non-null   float64\n",
            " 8   tract_minority_population_percent  100931 non-null  float64\n",
            " 9   tract_to_msa_income_percentage     100931 non-null  float64\n",
            " 10  denial_reason-1                    100931 non-null  int64  \n",
            " 11  covenant_count                     100931 non-null  float64\n",
            " 12  was_approved                       100931 non-null  bool   \n",
            " 13  covenant_density                   11169 non-null   object \n",
            "dtypes: bool(1), float64(8), int64(3), object(2)\n",
            "memory usage: 10.1+ MB\n"
          ]
        }
      ]
    }
  ]
}